{
 "cells": [
  {
   "cell_type": "code",
   "execution_count": 20,
   "metadata": {},
   "outputs": [],
   "source": [
    "import multiprocessing\n",
    "import time\n",
    "import sys"
   ]
  },
  {
   "cell_type": "code",
   "execution_count": 21,
   "metadata": {},
   "outputs": [
    {
     "data": {
      "text/plain": [
       "12"
      ]
     },
     "execution_count": 21,
     "metadata": {},
     "output_type": "execute_result"
    }
   ],
   "source": [
    "# num of cpus\n",
    "multiprocessing.cpu_count()"
   ]
  },
  {
   "cell_type": "markdown",
   "metadata": {},
   "source": [
    "### Multi-proc Example"
   ]
  },
  {
   "cell_type": "code",
   "execution_count": 10,
   "metadata": {},
   "outputs": [],
   "source": [
    "# multiproc example\n",
    "def print_func(continent=\"Asia\"):\n",
    "    '''Test func for multi-proc'''\n",
    "    # print(f\"The name of continent is: {continent}\")\n",
    "    print(\"The name of continent is: \", continent)"
   ]
  },
  {
   "cell_type": "code",
   "execution_count": 11,
   "metadata": {},
   "outputs": [],
   "source": [
    "if __name__ == \"__main__\":\n",
    "    names = ['America','Europe','Africa']\n",
    "    procs = []\n",
    "    proc = multiprocessing.Process(target=print_func)\n",
    "    \n",
    "    for name in names:\n",
    "        # print(name)\n",
    "        proc = multiprocessing.Process(target=print_func, args=(name,))\n",
    "        procs.append(proc)\n",
    "        proc.start()\n",
    "        \n",
    "    for proc in procs:\n",
    "        proc.join()"
   ]
  },
  {
   "cell_type": "markdown",
   "metadata": {},
   "source": [
    "## Create Tuple of lists"
   ]
  },
  {
   "cell_type": "code",
   "execution_count": 22,
   "metadata": {},
   "outputs": [],
   "source": [
    "files = [ \"file1\", \"file2\", \"file3\" ]\n",
    "args = [\"arg1\", \"arg2\", \"arg3\"]\n",
    "work_3 = {\"item1\":1, \"item2\":3}"
   ]
  },
  {
   "cell_type": "code",
   "execution_count": 1,
   "metadata": {},
   "outputs": [],
   "source": [
    "import itertools"
   ]
  },
  {
   "cell_type": "code",
   "execution_count": null,
   "metadata": {},
   "outputs": [],
   "source": [
    "itertools.product"
   ]
  },
  {
   "cell_type": "code",
   "execution_count": 12,
   "metadata": {},
   "outputs": [
    {
     "name": "stdout",
     "output_type": "stream",
     "text": [
      "file1 arg1\n",
      "file2 arg2\n",
      "file3 arg3\n"
     ]
    }
   ],
   "source": [
    "for idx,file in enumerate(files):\n",
    "    print(files[idx],args[idx])\n",
    "    # print(idx)"
   ]
  },
  {
   "cell_type": "code",
   "execution_count": null,
   "metadata": {},
   "outputs": [],
   "source": []
  },
  {
   "cell_type": "code",
   "execution_count": 6,
   "metadata": {},
   "outputs": [
    {
     "name": "stdout",
     "output_type": "stream",
     "text": [
      "(['file1', 'arg1'], ['file2', 'arg2'], ['file3', 'arg3'])\n"
     ]
    }
   ],
   "source": [
    "c_list = list()\n",
    "for idx,file in enumerate(files):\n",
    "    tmp_list = [files[idx],args[idx]]\n",
    "    # print(tmp_list)\n",
    "    c_list.append(tmp_list)\n",
    "    \n",
    "# print(c_list)\n",
    "c_tup = tuple(c_list)\n",
    "print(c_tup)"
   ]
  },
  {
   "cell_type": "code",
   "execution_count": 18,
   "metadata": {},
   "outputs": [],
   "source": [
    "def multiproc_cmd_list_tuple(arg_list1,arg_list2):\n",
    "    '''working doc-string'''\n",
    "    \n",
    "    # Empty list\n",
    "    c_list = list()\n",
    "    \n",
    "    # for idx,file in enumerate(arg_list1):\n",
    "    for idx in range(0,len(arg_list1),1):\n",
    "        tmp_list = [arg_list1[idx],arg_list2[idx]]\n",
    "        # print(tmp_list)\n",
    "        c_list.append(tmp_list)\n",
    "        \n",
    "    c_tup = tuple(c_list)\n",
    "    return c_tup"
   ]
  },
  {
   "cell_type": "code",
   "execution_count": 19,
   "metadata": {},
   "outputs": [
    {
     "data": {
      "text/plain": [
       "(['file1', 'arg1'], ['file2', 'arg2'], ['file3', 'arg3'])"
      ]
     },
     "execution_count": 19,
     "metadata": {},
     "output_type": "execute_result"
    }
   ],
   "source": [
    "multiproc_cmd_list_tuple(files,args)"
   ]
  },
  {
   "cell_type": "code",
   "execution_count": 32,
   "metadata": {},
   "outputs": [],
   "source": [
    "def multiproc_cmd_list_tuple(arg_list1, arg_list2, **kwargs):\n",
    "    '''working doc-string'''\n",
    "\n",
    "    # Empty list\n",
    "    c_list = list()\n",
    "\n",
    "    # for idx,file in enumerate(arg_list1):\n",
    "    for idx in range(0, len(arg_list1), 1):\n",
    "        tmp_list = [arg_list1[idx], arg_list2[idx]]\n",
    "        # print(tmp_list)\n",
    "        for key, item in kwargs.items():\n",
    "            # tmp_dict = {key: item}\n",
    "            # new_dict.update(tmp_dict)\n",
    "            tmp_list.append(f\"{key}={item}\")\n",
    "        c_list.append(tmp_list)\n",
    "\n",
    "    c_tup = tuple(c_list)\n",
    "    return c_tup"
   ]
  },
  {
   "cell_type": "code",
   "execution_count": 35,
   "metadata": {},
   "outputs": [],
   "source": [
    "def multiproc_cmd_list_tuple(in_list, out_list, **kwargs):\n",
    "    '''\n",
    "    Creates a tuple of lists that contains the input arguments in the format that multiprocessing's Pool uses.\n",
    "    This function is intended for use with multiprocessing's Pool class and reg4D's apply_xfm_4D function.\n",
    "    \n",
    "    Arguments:\n",
    "        in_list (list): Input list of filenames\n",
    "        out_list (list): Output list of filenames\n",
    "        **kwargs (string,dict, key,value pairs): key=value pairs - Most useful when function arguments are passed as a dictionary\n",
    "    \n",
    "    Returns:\n",
    "        cmd_tup (tuple): Tuple of (command) lists that can be used as input to  multiprocessing's Pool class.\n",
    "    '''\n",
    "\n",
    "    # Empty list\n",
    "    cmd_list = list()\n",
    "\n",
    "    # for idx,file in enumerate(in_list):\n",
    "    for idx in range(0, len(in_list), 1):\n",
    "        tmp_list = [in_list[idx], out_list[idx]]\n",
    "        for key, item in kwargs.items():\n",
    "            tmp_list.append(f\"{item}\")\n",
    "        cmd_list.append(tmp_list)\n",
    "\n",
    "    cmd_tup = tuple(cmd_list)\n",
    "    return cmd_tup"
   ]
  },
  {
   "cell_type": "code",
   "execution_count": 36,
   "metadata": {},
   "outputs": [
    {
     "data": {
      "text/plain": [
       "(['file1', 'arg1', '1', '3'],\n",
       " ['file2', 'arg2', '1', '3'],\n",
       " ['file3', 'arg3', '1', '3'])"
      ]
     },
     "execution_count": 36,
     "metadata": {},
     "output_type": "execute_result"
    }
   ],
   "source": [
    "multiproc_cmd_list_tuple(files,args,**work_3)"
   ]
  },
  {
   "cell_type": "code",
   "execution_count": null,
   "metadata": {},
   "outputs": [],
   "source": []
  }
 ],
 "metadata": {
  "kernelspec": {
   "display_name": "Python 3",
   "language": "python",
   "name": "python3"
  },
  "language_info": {
   "codemirror_mode": {
    "name": "ipython",
    "version": 3
   },
   "file_extension": ".py",
   "mimetype": "text/x-python",
   "name": "python",
   "nbconvert_exporter": "python",
   "pygments_lexer": "ipython3",
   "version": "3.7.3"
  }
 },
 "nbformat": 4,
 "nbformat_minor": 2
}
