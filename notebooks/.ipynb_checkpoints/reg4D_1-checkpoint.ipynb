{
 "cells": [
  {
   "cell_type": "code",
   "execution_count": 73,
   "metadata": {},
   "outputs": [],
   "source": [
    "import nibabel as nib\n",
    "import os\n",
    "import sys\n",
    "import subprocess\n",
    "import glob"
   ]
  },
  {
   "cell_type": "code",
   "execution_count": 2,
   "metadata": {},
   "outputs": [],
   "source": [
    "f = \"/Users/brac4g/Desktop/reg4D/test.file\""
   ]
  },
  {
   "cell_type": "code",
   "execution_count": 3,
   "metadata": {},
   "outputs": [],
   "source": [
    "# touch(f)"
   ]
  },
  {
   "cell_type": "code",
   "execution_count": 4,
   "metadata": {},
   "outputs": [],
   "source": [
    "# touch_empty(f)"
   ]
  },
  {
   "cell_type": "code",
   "execution_count": 23,
   "metadata": {},
   "outputs": [],
   "source": [
    "class File():\n",
    "    '''\n",
    "    File class doc-string\n",
    "    \n",
    "    Attributes:\n",
    "        filename (string): Filename with path to file. File does not need to exist.\n",
    "    '''\n",
    "    \n",
    "    def __init__(self,filename):\n",
    "        '''\n",
    "        Return filename string\n",
    "        '''\n",
    "        self.filename = filename\n",
    "        return None\n",
    "        \n",
    "    def touch(filename):\n",
    "        '''\n",
    "        Analagous to UNIX's touch command. Creates an empty file.\n",
    "\n",
    "        Arguments:\n",
    "            filename (string): Filename (with path)\n",
    "\n",
    "        Returns:\n",
    "            filename (string): Path to file. This now file exists and can now be used as inputs to other functions.\n",
    "        '''\n",
    "\n",
    "        if not os.path.exists(filename):\n",
    "            with open(filename,\"w\"): pass\n",
    "            filename = os.path.abspath(filename)\n",
    "        else:\n",
    "            print(f\"file: {filename} already exists. File will not be overwritten.\")\n",
    "\n",
    "        return filename\n",
    "    \n",
    "    def make_filename_path(filename):\n",
    "        '''\n",
    "        Analagous to UNIX's touch command. Creates an empty file, and then removes it - preserving the\n",
    "        absolute path to the file.\n",
    "\n",
    "        Arguments:\n",
    "            filename (string): Filename (with path)\n",
    "\n",
    "        Returns:\n",
    "            filename (string): Path to file. This now file exists and can now be used as inputs to other functions.\n",
    "        '''\n",
    "\n",
    "        if not os.path.exists(filename):\n",
    "            with open(filename,\"w\"): pass\n",
    "            filename = os.path.abspath(filename)\n",
    "            os.remove(filename)\n",
    "        else:\n",
    "            print(f\"file: {filename} already exists. File will not be overwritten.\")\n",
    "\n",
    "        return filename"
   ]
  },
  {
   "cell_type": "code",
   "execution_count": 15,
   "metadata": {},
   "outputs": [],
   "source": [
    "t = File(f)"
   ]
  },
  {
   "cell_type": "code",
   "execution_count": 16,
   "metadata": {},
   "outputs": [
    {
     "data": {
      "text/plain": [
       "<__main__.File at 0x7ff0d8cd9978>"
      ]
     },
     "execution_count": 16,
     "metadata": {},
     "output_type": "execute_result"
    }
   ],
   "source": [
    "t"
   ]
  },
  {
   "cell_type": "code",
   "execution_count": 18,
   "metadata": {},
   "outputs": [
    {
     "data": {
      "text/plain": [
       "<bound method File.touch of <__main__.File object at 0x7ff0d8cd9978>>"
      ]
     },
     "execution_count": 18,
     "metadata": {},
     "output_type": "execute_result"
    }
   ],
   "source": [
    "t.touch"
   ]
  },
  {
   "cell_type": "code",
   "execution_count": 12,
   "metadata": {},
   "outputs": [],
   "source": [
    "t = File.make_filename_path(f)"
   ]
  },
  {
   "cell_type": "code",
   "execution_count": 14,
   "metadata": {},
   "outputs": [
    {
     "data": {
      "text/plain": [
       "'/Users/brac4g/Desktop/reg4D/test.file'"
      ]
     },
     "execution_count": 14,
     "metadata": {},
     "output_type": "execute_result"
    }
   ],
   "source": [
    "t"
   ]
  },
  {
   "cell_type": "code",
   "execution_count": 55,
   "metadata": {},
   "outputs": [],
   "source": [
    "class Command():\n",
    "    '''\n",
    "    Creates a command and an empty command list for UNIX command line programs/applications\n",
    "    \n",
    "    Attributes:\n",
    "        command: Command to be performed on the command line\n",
    "    '''\n",
    "    \n",
    "    def __init__(self):\n",
    "        '''\n",
    "        Init doc-string for Command class.\n",
    "        '''\n",
    "        pass; return None\n",
    "    \n",
    "    def init_cmd(self,command):\n",
    "        '''\n",
    "        Init command function for initializing commands to be used on UNIX command line.\n",
    "        \n",
    "        Arguments:\n",
    "            command (string): Command to be used. Note: command used must be in system path\n",
    "        \n",
    "        Returns:\n",
    "            cmd_list (list): Mutable list that can be appended to.\n",
    "        '''\n",
    "        self.command = command\n",
    "        self.cmd_list = [f\"{self.command}\"]\n",
    "        return self.cmd_list"
   ]
  },
  {
   "cell_type": "code",
   "execution_count": null,
   "metadata": {},
   "outputs": [],
   "source": []
  },
  {
   "cell_type": "code",
   "execution_count": 158,
   "metadata": {},
   "outputs": [],
   "source": [
    "def split_4D(nii_4d,out_prefix,dim=\"-t\"):\n",
    "    '''\n",
    "    Wrapper function for FSL's fslsplit. Splits 4D nifti timeseries data and returns a list of \n",
    "    the split timeseries files.\n",
    "    \n",
    "    Arugments:\n",
    "        nii_4d (string): Input 4D file to be separated\n",
    "        out_prefix (string): Output file prefix (no '.nii.gz', preferably to separate directory)\n",
    "        dim (string): Dimension to separate along [default: '-t']\n",
    "        \n",
    "    Returns:\n",
    "        nii_list (list): Sorted list of the zeropadded filenames of the split 4D timeseries.\n",
    "    '''\n",
    "    \n",
    "    # Check dimension argument\n",
    "    if dim != \"-t\" and dim != \"-x\" and dim != \"-y\" and dim != \"-z\":\n",
    "        print(\"Unrecognized option for dimension. Using default of time.\")\n",
    "        dim = \"-t\"\n",
    "        \n",
    "    \n",
    "    # Initialize command\n",
    "    split = Command().init_cmd(\"fslsplit\")\n",
    "    \n",
    "    # Add input/output arguments\n",
    "    split.append(nii_4d)\n",
    "    split.append(out_prefix)\n",
    "    split.append(dim)\n",
    "    \n",
    "    # Perform/Execute command\n",
    "    subprocess.call(split)\n",
    "    \n",
    "    # Create list of files\n",
    "    nii_list = sorted(glob.glob(out_prefix + \"*.nii*\"))\n",
    "    \n",
    "    return nii_list"
   ]
  },
  {
   "cell_type": "code",
   "execution_count": 81,
   "metadata": {},
   "outputs": [],
   "source": [
    "n = split_4D(\"/Users/brac4g/Desktop/reg4D/test_data/filtered_func_data.nii.gz\",\n",
    "        \"/Users/brac4g/Desktop/reg4D/test1/split\",\n",
    "        dim=\"-t\")"
   ]
  },
  {
   "cell_type": "code",
   "execution_count": 156,
   "metadata": {},
   "outputs": [],
   "source": [
    "def merge_4D(nii_list,out_prefix,dim=\"-tr\",tr=2.000):\n",
    "    '''\n",
    "    Wrapper function for FSL's fslmerge. Merges a list of 3D nifti files and returns a merged file in some\n",
    "    arbitrary dimension (t (time, with TR), x, y, or, z).\n",
    "    \n",
    "    Arugments:\n",
    "        nii_list (list): List of the zeropadded filenames of the split 4D timeseries.\n",
    "        out_prefix (string): Output file prefix (no '.nii.gz')\n",
    "        dim (string): Dimension to separate along [default: '-tr']\n",
    "        tr (float): Repetition Time (TR, in sec.) [default: 2.000]\n",
    "        \n",
    "    Returns:\n",
    "        nii_list (list): Sorted list of the zeropadded filenames of the split 4D timeseries.\n",
    "    '''\n",
    "    \n",
    "    # Check dimension argument\n",
    "    if dim != \"-tr\" and dim != \"-t\" and dim != \"-x\" and dim != \"-y\" and dim != \"-z\":\n",
    "        print(\"Unrecognized option for dimension. Using default of time with defined TR.\")\n",
    "        dim = \"-tr\"\n",
    "        \n",
    "    # Create empty file and path to retrieve\n",
    "    out_prefix = File.make_filename_path(out_prefix)\n",
    "    \n",
    "    # Initialize command\n",
    "    merge = Command().init_cmd(\"fslmerge\")\n",
    "    \n",
    "    # Add input/output arguments\n",
    "    merge.append(dim)\n",
    "    merge.append(out_prefix)   \n",
    "    merge.extend(nii_list)\n",
    "    \n",
    "    if dim == \"-tr\":\n",
    "        merge.append(str(tr))\n",
    "    \n",
    "    # Perform/Execute command\n",
    "    subprocess.call(merge)\n",
    "    \n",
    "    out_file = out_prefix + \".nii.gz\"\n",
    "    \n",
    "    return out_file"
   ]
  },
  {
   "cell_type": "code",
   "execution_count": null,
   "metadata": {},
   "outputs": [],
   "source": []
  },
  {
   "cell_type": "code",
   "execution_count": 157,
   "metadata": {
    "scrolled": true
   },
   "outputs": [
    {
     "data": {
      "text/plain": [
       "'/Users/brac4g/Desktop/reg4D/test_data/out_test_merge.nii.gz'"
      ]
     },
     "execution_count": 157,
     "metadata": {},
     "output_type": "execute_result"
    }
   ],
   "source": [
    "merge_4D(nii_list,out_prefix,tr=3.000)"
   ]
  },
  {
   "cell_type": "code",
   "execution_count": null,
   "metadata": {},
   "outputs": [],
   "source": []
  },
  {
   "cell_type": "code",
   "execution_count": 134,
   "metadata": {},
   "outputs": [],
   "source": [
    "nii_list = n\n",
    "# nii_list"
   ]
  },
  {
   "cell_type": "code",
   "execution_count": 135,
   "metadata": {},
   "outputs": [],
   "source": [
    "out_prefix='/Users/brac4g/Desktop/reg4D/test_data/out_test_merge'"
   ]
  },
  {
   "cell_type": "code",
   "execution_count": 136,
   "metadata": {},
   "outputs": [],
   "source": [
    "dim=\"-tr\";tr = 2.0000"
   ]
  },
  {
   "cell_type": "code",
   "execution_count": 146,
   "metadata": {},
   "outputs": [],
   "source": [
    "# Check dimension argument\n",
    "if dim != \"-tr\" and dim != \"-t\" and dim != \"-x\" and dim != \"-y\" and dim != \"-z\":\n",
    "    print(\"Unrecognized option for dimension. Using default of time with defined TR.\")\n",
    "    dim = \"-tr\""
   ]
  },
  {
   "cell_type": "code",
   "execution_count": 153,
   "metadata": {},
   "outputs": [
    {
     "data": {
      "text/plain": [
       "['fslmerge', '-tr', '/Users/brac4g/Desktop/reg4D/test_data/out_test_merge']"
      ]
     },
     "execution_count": 153,
     "metadata": {},
     "output_type": "execute_result"
    }
   ],
   "source": [
    "# Initialize command\n",
    "merge = Command().init_cmd(\"fslmerge\")\n",
    "\n",
    "# Add input/output arguments\n",
    "merge.append(dim)\n",
    "merge.append(out_prefix)   \n",
    "\n",
    "merge"
   ]
  },
  {
   "cell_type": "code",
   "execution_count": 154,
   "metadata": {},
   "outputs": [
    {
     "data": {
      "text/plain": [
       "['fslmerge',\n",
       " '-tr',\n",
       " '/Users/brac4g/Desktop/reg4D/test_data/out_test_merge',\n",
       " '/Users/brac4g/Desktop/reg4D/test1/split0000.nii.gz',\n",
       " '/Users/brac4g/Desktop/reg4D/test1/split0001.nii.gz',\n",
       " '/Users/brac4g/Desktop/reg4D/test1/split0002.nii.gz',\n",
       " '/Users/brac4g/Desktop/reg4D/test1/split0003.nii.gz',\n",
       " '/Users/brac4g/Desktop/reg4D/test1/split0004.nii.gz',\n",
       " '/Users/brac4g/Desktop/reg4D/test1/split0005.nii.gz',\n",
       " '/Users/brac4g/Desktop/reg4D/test1/split0006.nii.gz',\n",
       " '/Users/brac4g/Desktop/reg4D/test1/split0007.nii.gz',\n",
       " '/Users/brac4g/Desktop/reg4D/test1/split0008.nii.gz',\n",
       " '/Users/brac4g/Desktop/reg4D/test1/split0009.nii.gz',\n",
       " '/Users/brac4g/Desktop/reg4D/test1/split0010.nii.gz',\n",
       " '/Users/brac4g/Desktop/reg4D/test1/split0011.nii.gz',\n",
       " '/Users/brac4g/Desktop/reg4D/test1/split0012.nii.gz',\n",
       " '/Users/brac4g/Desktop/reg4D/test1/split0013.nii.gz',\n",
       " '/Users/brac4g/Desktop/reg4D/test1/split0014.nii.gz',\n",
       " '/Users/brac4g/Desktop/reg4D/test1/split0015.nii.gz',\n",
       " '/Users/brac4g/Desktop/reg4D/test1/split0016.nii.gz',\n",
       " '/Users/brac4g/Desktop/reg4D/test1/split0017.nii.gz',\n",
       " '/Users/brac4g/Desktop/reg4D/test1/split0018.nii.gz',\n",
       " '/Users/brac4g/Desktop/reg4D/test1/split0019.nii.gz',\n",
       " '/Users/brac4g/Desktop/reg4D/test1/split0020.nii.gz',\n",
       " '/Users/brac4g/Desktop/reg4D/test1/split0021.nii.gz',\n",
       " '/Users/brac4g/Desktop/reg4D/test1/split0022.nii.gz',\n",
       " '/Users/brac4g/Desktop/reg4D/test1/split0023.nii.gz',\n",
       " '/Users/brac4g/Desktop/reg4D/test1/split0024.nii.gz',\n",
       " '/Users/brac4g/Desktop/reg4D/test1/split0025.nii.gz',\n",
       " '/Users/brac4g/Desktop/reg4D/test1/split0026.nii.gz',\n",
       " '/Users/brac4g/Desktop/reg4D/test1/split0027.nii.gz',\n",
       " '/Users/brac4g/Desktop/reg4D/test1/split0028.nii.gz',\n",
       " '/Users/brac4g/Desktop/reg4D/test1/split0029.nii.gz',\n",
       " '/Users/brac4g/Desktop/reg4D/test1/split0030.nii.gz',\n",
       " '/Users/brac4g/Desktop/reg4D/test1/split0031.nii.gz',\n",
       " '/Users/brac4g/Desktop/reg4D/test1/split0032.nii.gz',\n",
       " '/Users/brac4g/Desktop/reg4D/test1/split0033.nii.gz',\n",
       " '/Users/brac4g/Desktop/reg4D/test1/split0034.nii.gz',\n",
       " '/Users/brac4g/Desktop/reg4D/test1/split0035.nii.gz',\n",
       " '/Users/brac4g/Desktop/reg4D/test1/split0036.nii.gz',\n",
       " '/Users/brac4g/Desktop/reg4D/test1/split0037.nii.gz',\n",
       " '/Users/brac4g/Desktop/reg4D/test1/split0038.nii.gz',\n",
       " '/Users/brac4g/Desktop/reg4D/test1/split0039.nii.gz',\n",
       " '/Users/brac4g/Desktop/reg4D/test1/split0040.nii.gz',\n",
       " '/Users/brac4g/Desktop/reg4D/test1/split0041.nii.gz',\n",
       " '/Users/brac4g/Desktop/reg4D/test1/split0042.nii.gz',\n",
       " '/Users/brac4g/Desktop/reg4D/test1/split0043.nii.gz',\n",
       " '/Users/brac4g/Desktop/reg4D/test1/split0044.nii.gz',\n",
       " '/Users/brac4g/Desktop/reg4D/test1/split0045.nii.gz',\n",
       " '/Users/brac4g/Desktop/reg4D/test1/split0046.nii.gz',\n",
       " '/Users/brac4g/Desktop/reg4D/test1/split0047.nii.gz',\n",
       " '/Users/brac4g/Desktop/reg4D/test1/split0048.nii.gz',\n",
       " '/Users/brac4g/Desktop/reg4D/test1/split0049.nii.gz',\n",
       " '/Users/brac4g/Desktop/reg4D/test1/split0050.nii.gz',\n",
       " '/Users/brac4g/Desktop/reg4D/test1/split0051.nii.gz',\n",
       " '/Users/brac4g/Desktop/reg4D/test1/split0052.nii.gz',\n",
       " '/Users/brac4g/Desktop/reg4D/test1/split0053.nii.gz',\n",
       " '/Users/brac4g/Desktop/reg4D/test1/split0054.nii.gz',\n",
       " '/Users/brac4g/Desktop/reg4D/test1/split0055.nii.gz',\n",
       " '/Users/brac4g/Desktop/reg4D/test1/split0056.nii.gz',\n",
       " '/Users/brac4g/Desktop/reg4D/test1/split0057.nii.gz',\n",
       " '/Users/brac4g/Desktop/reg4D/test1/split0058.nii.gz',\n",
       " '/Users/brac4g/Desktop/reg4D/test1/split0059.nii.gz',\n",
       " '/Users/brac4g/Desktop/reg4D/test1/split0060.nii.gz',\n",
       " '/Users/brac4g/Desktop/reg4D/test1/split0061.nii.gz',\n",
       " '/Users/brac4g/Desktop/reg4D/test1/split0062.nii.gz',\n",
       " '/Users/brac4g/Desktop/reg4D/test1/split0063.nii.gz',\n",
       " '/Users/brac4g/Desktop/reg4D/test1/split0064.nii.gz',\n",
       " '/Users/brac4g/Desktop/reg4D/test1/split0065.nii.gz',\n",
       " '/Users/brac4g/Desktop/reg4D/test1/split0066.nii.gz',\n",
       " '/Users/brac4g/Desktop/reg4D/test1/split0067.nii.gz',\n",
       " '/Users/brac4g/Desktop/reg4D/test1/split0068.nii.gz',\n",
       " '/Users/brac4g/Desktop/reg4D/test1/split0069.nii.gz',\n",
       " '/Users/brac4g/Desktop/reg4D/test1/split0070.nii.gz',\n",
       " '/Users/brac4g/Desktop/reg4D/test1/split0071.nii.gz',\n",
       " '/Users/brac4g/Desktop/reg4D/test1/split0072.nii.gz',\n",
       " '/Users/brac4g/Desktop/reg4D/test1/split0073.nii.gz',\n",
       " '/Users/brac4g/Desktop/reg4D/test1/split0074.nii.gz',\n",
       " '/Users/brac4g/Desktop/reg4D/test1/split0075.nii.gz',\n",
       " '/Users/brac4g/Desktop/reg4D/test1/split0076.nii.gz',\n",
       " '/Users/brac4g/Desktop/reg4D/test1/split0077.nii.gz',\n",
       " '/Users/brac4g/Desktop/reg4D/test1/split0078.nii.gz',\n",
       " '/Users/brac4g/Desktop/reg4D/test1/split0079.nii.gz',\n",
       " '/Users/brac4g/Desktop/reg4D/test1/split0080.nii.gz',\n",
       " '/Users/brac4g/Desktop/reg4D/test1/split0081.nii.gz',\n",
       " '/Users/brac4g/Desktop/reg4D/test1/split0082.nii.gz',\n",
       " '/Users/brac4g/Desktop/reg4D/test1/split0083.nii.gz',\n",
       " '/Users/brac4g/Desktop/reg4D/test1/split0084.nii.gz',\n",
       " '/Users/brac4g/Desktop/reg4D/test1/split0085.nii.gz',\n",
       " '/Users/brac4g/Desktop/reg4D/test1/split0086.nii.gz',\n",
       " '/Users/brac4g/Desktop/reg4D/test1/split0087.nii.gz',\n",
       " '/Users/brac4g/Desktop/reg4D/test1/split0088.nii.gz',\n",
       " '/Users/brac4g/Desktop/reg4D/test1/split0089.nii.gz',\n",
       " '/Users/brac4g/Desktop/reg4D/test1/split0090.nii.gz',\n",
       " '/Users/brac4g/Desktop/reg4D/test1/split0091.nii.gz',\n",
       " '/Users/brac4g/Desktop/reg4D/test1/split0092.nii.gz',\n",
       " '/Users/brac4g/Desktop/reg4D/test1/split0093.nii.gz',\n",
       " '/Users/brac4g/Desktop/reg4D/test1/split0094.nii.gz',\n",
       " '/Users/brac4g/Desktop/reg4D/test1/split0095.nii.gz',\n",
       " '/Users/brac4g/Desktop/reg4D/test1/split0096.nii.gz',\n",
       " '/Users/brac4g/Desktop/reg4D/test1/split0097.nii.gz',\n",
       " '/Users/brac4g/Desktop/reg4D/test1/split0098.nii.gz',\n",
       " '/Users/brac4g/Desktop/reg4D/test1/split0099.nii.gz',\n",
       " '/Users/brac4g/Desktop/reg4D/test1/split0100.nii.gz',\n",
       " '/Users/brac4g/Desktop/reg4D/test1/split0101.nii.gz',\n",
       " '/Users/brac4g/Desktop/reg4D/test1/split0102.nii.gz',\n",
       " '/Users/brac4g/Desktop/reg4D/test1/split0103.nii.gz',\n",
       " '/Users/brac4g/Desktop/reg4D/test1/split0104.nii.gz',\n",
       " '/Users/brac4g/Desktop/reg4D/test1/split0105.nii.gz',\n",
       " '/Users/brac4g/Desktop/reg4D/test1/split0106.nii.gz',\n",
       " '/Users/brac4g/Desktop/reg4D/test1/split0107.nii.gz',\n",
       " '/Users/brac4g/Desktop/reg4D/test1/split0108.nii.gz',\n",
       " '/Users/brac4g/Desktop/reg4D/test1/split0109.nii.gz',\n",
       " '/Users/brac4g/Desktop/reg4D/test1/split0110.nii.gz',\n",
       " '/Users/brac4g/Desktop/reg4D/test1/split0111.nii.gz',\n",
       " '/Users/brac4g/Desktop/reg4D/test1/split0112.nii.gz',\n",
       " '/Users/brac4g/Desktop/reg4D/test1/split0113.nii.gz',\n",
       " '/Users/brac4g/Desktop/reg4D/test1/split0114.nii.gz',\n",
       " '/Users/brac4g/Desktop/reg4D/test1/split0115.nii.gz',\n",
       " '/Users/brac4g/Desktop/reg4D/test1/split0116.nii.gz',\n",
       " '/Users/brac4g/Desktop/reg4D/test1/split0117.nii.gz',\n",
       " '/Users/brac4g/Desktop/reg4D/test1/split0118.nii.gz',\n",
       " '/Users/brac4g/Desktop/reg4D/test1/split0119.nii.gz',\n",
       " '/Users/brac4g/Desktop/reg4D/test1/split0120.nii.gz',\n",
       " '/Users/brac4g/Desktop/reg4D/test1/split0121.nii.gz',\n",
       " '/Users/brac4g/Desktop/reg4D/test1/split0122.nii.gz',\n",
       " '/Users/brac4g/Desktop/reg4D/test1/split0123.nii.gz',\n",
       " '/Users/brac4g/Desktop/reg4D/test1/split0124.nii.gz',\n",
       " '/Users/brac4g/Desktop/reg4D/test1/split0125.nii.gz',\n",
       " '/Users/brac4g/Desktop/reg4D/test1/split0126.nii.gz',\n",
       " '/Users/brac4g/Desktop/reg4D/test1/split0127.nii.gz',\n",
       " '/Users/brac4g/Desktop/reg4D/test1/split0128.nii.gz',\n",
       " '/Users/brac4g/Desktop/reg4D/test1/split0129.nii.gz',\n",
       " '/Users/brac4g/Desktop/reg4D/test1/split0130.nii.gz',\n",
       " '/Users/brac4g/Desktop/reg4D/test1/split0131.nii.gz',\n",
       " '/Users/brac4g/Desktop/reg4D/test1/split0132.nii.gz',\n",
       " '/Users/brac4g/Desktop/reg4D/test1/split0133.nii.gz',\n",
       " '/Users/brac4g/Desktop/reg4D/test1/split0134.nii.gz',\n",
       " '/Users/brac4g/Desktop/reg4D/test1/split0135.nii.gz',\n",
       " '/Users/brac4g/Desktop/reg4D/test1/split0136.nii.gz',\n",
       " '/Users/brac4g/Desktop/reg4D/test1/split0137.nii.gz',\n",
       " '/Users/brac4g/Desktop/reg4D/test1/split0138.nii.gz',\n",
       " '/Users/brac4g/Desktop/reg4D/test1/split0139.nii.gz',\n",
       " '/Users/brac4g/Desktop/reg4D/test1/split0140.nii.gz',\n",
       " '/Users/brac4g/Desktop/reg4D/test1/split0141.nii.gz',\n",
       " '/Users/brac4g/Desktop/reg4D/test1/split0142.nii.gz',\n",
       " '/Users/brac4g/Desktop/reg4D/test1/split0143.nii.gz',\n",
       " '/Users/brac4g/Desktop/reg4D/test1/split0144.nii.gz',\n",
       " '/Users/brac4g/Desktop/reg4D/test1/split0145.nii.gz',\n",
       " '/Users/brac4g/Desktop/reg4D/test1/split0146.nii.gz',\n",
       " '/Users/brac4g/Desktop/reg4D/test1/split0147.nii.gz',\n",
       " '/Users/brac4g/Desktop/reg4D/test1/split0148.nii.gz',\n",
       " '/Users/brac4g/Desktop/reg4D/test1/split0149.nii.gz',\n",
       " '/Users/brac4g/Desktop/reg4D/test1/split0150.nii.gz',\n",
       " '/Users/brac4g/Desktop/reg4D/test1/split0151.nii.gz',\n",
       " '/Users/brac4g/Desktop/reg4D/test1/split0152.nii.gz',\n",
       " '/Users/brac4g/Desktop/reg4D/test1/split0153.nii.gz',\n",
       " '/Users/brac4g/Desktop/reg4D/test1/split0154.nii.gz',\n",
       " '/Users/brac4g/Desktop/reg4D/test1/split0155.nii.gz',\n",
       " '/Users/brac4g/Desktop/reg4D/test1/split0156.nii.gz',\n",
       " '/Users/brac4g/Desktop/reg4D/test1/split0157.nii.gz',\n",
       " '/Users/brac4g/Desktop/reg4D/test1/split0158.nii.gz',\n",
       " '/Users/brac4g/Desktop/reg4D/test1/split0159.nii.gz',\n",
       " '/Users/brac4g/Desktop/reg4D/test1/split0160.nii.gz',\n",
       " '/Users/brac4g/Desktop/reg4D/test1/split0161.nii.gz',\n",
       " '/Users/brac4g/Desktop/reg4D/test1/split0162.nii.gz',\n",
       " '/Users/brac4g/Desktop/reg4D/test1/split0163.nii.gz',\n",
       " '/Users/brac4g/Desktop/reg4D/test1/split0164.nii.gz',\n",
       " '/Users/brac4g/Desktop/reg4D/test1/split0165.nii.gz',\n",
       " '/Users/brac4g/Desktop/reg4D/test1/split0166.nii.gz',\n",
       " '/Users/brac4g/Desktop/reg4D/test1/split0167.nii.gz',\n",
       " '/Users/brac4g/Desktop/reg4D/test1/split0168.nii.gz',\n",
       " '/Users/brac4g/Desktop/reg4D/test1/split0169.nii.gz',\n",
       " '/Users/brac4g/Desktop/reg4D/test1/split0170.nii.gz',\n",
       " '/Users/brac4g/Desktop/reg4D/test1/split0171.nii.gz',\n",
       " '/Users/brac4g/Desktop/reg4D/test1/split0172.nii.gz',\n",
       " '/Users/brac4g/Desktop/reg4D/test1/split0173.nii.gz',\n",
       " '/Users/brac4g/Desktop/reg4D/test1/split0174.nii.gz',\n",
       " '/Users/brac4g/Desktop/reg4D/test1/split0175.nii.gz',\n",
       " '/Users/brac4g/Desktop/reg4D/test1/split0176.nii.gz',\n",
       " '/Users/brac4g/Desktop/reg4D/test1/split0177.nii.gz',\n",
       " '/Users/brac4g/Desktop/reg4D/test1/split0178.nii.gz',\n",
       " '/Users/brac4g/Desktop/reg4D/test1/split0179.nii.gz',\n",
       " '/Users/brac4g/Desktop/reg4D/test1/split0180.nii.gz',\n",
       " '/Users/brac4g/Desktop/reg4D/test1/split0181.nii.gz',\n",
       " '/Users/brac4g/Desktop/reg4D/test1/split0182.nii.gz',\n",
       " '/Users/brac4g/Desktop/reg4D/test1/split0183.nii.gz',\n",
       " '/Users/brac4g/Desktop/reg4D/test1/split0184.nii.gz',\n",
       " '/Users/brac4g/Desktop/reg4D/test1/split0185.nii.gz',\n",
       " '/Users/brac4g/Desktop/reg4D/test1/split0186.nii.gz',\n",
       " '/Users/brac4g/Desktop/reg4D/test1/split0187.nii.gz',\n",
       " '/Users/brac4g/Desktop/reg4D/test1/split0188.nii.gz',\n",
       " '/Users/brac4g/Desktop/reg4D/test1/split0189.nii.gz',\n",
       " '/Users/brac4g/Desktop/reg4D/test1/split0190.nii.gz',\n",
       " '/Users/brac4g/Desktop/reg4D/test1/split0191.nii.gz',\n",
       " '/Users/brac4g/Desktop/reg4D/test1/split0192.nii.gz',\n",
       " '/Users/brac4g/Desktop/reg4D/test1/split0193.nii.gz',\n",
       " '/Users/brac4g/Desktop/reg4D/test1/split0194.nii.gz',\n",
       " '/Users/brac4g/Desktop/reg4D/test1/split0195.nii.gz',\n",
       " '/Users/brac4g/Desktop/reg4D/test1/split0196.nii.gz',\n",
       " '/Users/brac4g/Desktop/reg4D/test1/split0197.nii.gz',\n",
       " '/Users/brac4g/Desktop/reg4D/test1/split0198.nii.gz',\n",
       " '/Users/brac4g/Desktop/reg4D/test1/split0199.nii.gz',\n",
       " '/Users/brac4g/Desktop/reg4D/test1/split0200.nii.gz',\n",
       " '/Users/brac4g/Desktop/reg4D/test1/split0201.nii.gz',\n",
       " '/Users/brac4g/Desktop/reg4D/test1/split0202.nii.gz',\n",
       " '/Users/brac4g/Desktop/reg4D/test1/split0203.nii.gz',\n",
       " '/Users/brac4g/Desktop/reg4D/test1/split0204.nii.gz',\n",
       " '/Users/brac4g/Desktop/reg4D/test1/split0205.nii.gz',\n",
       " '/Users/brac4g/Desktop/reg4D/test1/split0206.nii.gz',\n",
       " '/Users/brac4g/Desktop/reg4D/test1/split0207.nii.gz',\n",
       " '/Users/brac4g/Desktop/reg4D/test1/split0208.nii.gz',\n",
       " '/Users/brac4g/Desktop/reg4D/test1/split0209.nii.gz',\n",
       " '/Users/brac4g/Desktop/reg4D/test1/split0210.nii.gz',\n",
       " '/Users/brac4g/Desktop/reg4D/test1/split0211.nii.gz',\n",
       " '/Users/brac4g/Desktop/reg4D/test1/split0212.nii.gz',\n",
       " '/Users/brac4g/Desktop/reg4D/test1/split0213.nii.gz',\n",
       " '/Users/brac4g/Desktop/reg4D/test1/split0214.nii.gz',\n",
       " '/Users/brac4g/Desktop/reg4D/test1/split0215.nii.gz',\n",
       " '/Users/brac4g/Desktop/reg4D/test1/split0216.nii.gz',\n",
       " '/Users/brac4g/Desktop/reg4D/test1/split0217.nii.gz',\n",
       " '/Users/brac4g/Desktop/reg4D/test1/split0218.nii.gz',\n",
       " '/Users/brac4g/Desktop/reg4D/test1/split0219.nii.gz',\n",
       " '/Users/brac4g/Desktop/reg4D/test1/split0220.nii.gz',\n",
       " '/Users/brac4g/Desktop/reg4D/test1/split0221.nii.gz',\n",
       " '/Users/brac4g/Desktop/reg4D/test1/split0222.nii.gz',\n",
       " '/Users/brac4g/Desktop/reg4D/test1/split0223.nii.gz',\n",
       " '/Users/brac4g/Desktop/reg4D/test1/split0224.nii.gz',\n",
       " '/Users/brac4g/Desktop/reg4D/test1/split0225.nii.gz',\n",
       " '/Users/brac4g/Desktop/reg4D/test1/split0226.nii.gz',\n",
       " '/Users/brac4g/Desktop/reg4D/test1/split0227.nii.gz',\n",
       " '/Users/brac4g/Desktop/reg4D/test1/split0228.nii.gz',\n",
       " '/Users/brac4g/Desktop/reg4D/test1/split0229.nii.gz',\n",
       " '/Users/brac4g/Desktop/reg4D/test1/split0230.nii.gz',\n",
       " '/Users/brac4g/Desktop/reg4D/test1/split0231.nii.gz',\n",
       " '/Users/brac4g/Desktop/reg4D/test1/split0232.nii.gz',\n",
       " '/Users/brac4g/Desktop/reg4D/test1/split0233.nii.gz',\n",
       " '/Users/brac4g/Desktop/reg4D/test1/split0234.nii.gz',\n",
       " '/Users/brac4g/Desktop/reg4D/test1/split0235.nii.gz',\n",
       " '/Users/brac4g/Desktop/reg4D/test1/split0236.nii.gz',\n",
       " '/Users/brac4g/Desktop/reg4D/test1/split0237.nii.gz',\n",
       " '/Users/brac4g/Desktop/reg4D/test1/split0238.nii.gz',\n",
       " '/Users/brac4g/Desktop/reg4D/test1/split0239.nii.gz',\n",
       " '/Users/brac4g/Desktop/reg4D/test1/split0240.nii.gz',\n",
       " '/Users/brac4g/Desktop/reg4D/test1/split0241.nii.gz',\n",
       " '/Users/brac4g/Desktop/reg4D/test1/split0242.nii.gz',\n",
       " '/Users/brac4g/Desktop/reg4D/test1/split0243.nii.gz',\n",
       " '/Users/brac4g/Desktop/reg4D/test1/split0244.nii.gz',\n",
       " '/Users/brac4g/Desktop/reg4D/test1/split0245.nii.gz',\n",
       " '/Users/brac4g/Desktop/reg4D/test1/split0246.nii.gz',\n",
       " '/Users/brac4g/Desktop/reg4D/test1/split0247.nii.gz',\n",
       " '/Users/brac4g/Desktop/reg4D/test1/split0248.nii.gz',\n",
       " '/Users/brac4g/Desktop/reg4D/test1/split0249.nii.gz',\n",
       " '/Users/brac4g/Desktop/reg4D/test1/split0250.nii.gz',\n",
       " '/Users/brac4g/Desktop/reg4D/test1/split0251.nii.gz',\n",
       " '/Users/brac4g/Desktop/reg4D/test1/split0252.nii.gz',\n",
       " '/Users/brac4g/Desktop/reg4D/test1/split0253.nii.gz',\n",
       " '/Users/brac4g/Desktop/reg4D/test1/split0254.nii.gz',\n",
       " '/Users/brac4g/Desktop/reg4D/test1/split0255.nii.gz',\n",
       " '/Users/brac4g/Desktop/reg4D/test1/split0256.nii.gz',\n",
       " '/Users/brac4g/Desktop/reg4D/test1/split0257.nii.gz',\n",
       " '/Users/brac4g/Desktop/reg4D/test1/split0258.nii.gz',\n",
       " '/Users/brac4g/Desktop/reg4D/test1/split0259.nii.gz',\n",
       " '/Users/brac4g/Desktop/reg4D/test1/split0260.nii.gz',\n",
       " '/Users/brac4g/Desktop/reg4D/test1/split0261.nii.gz',\n",
       " '/Users/brac4g/Desktop/reg4D/test1/split0262.nii.gz',\n",
       " '/Users/brac4g/Desktop/reg4D/test1/split0263.nii.gz',\n",
       " '/Users/brac4g/Desktop/reg4D/test1/split0264.nii.gz',\n",
       " '/Users/brac4g/Desktop/reg4D/test1/split0265.nii.gz',\n",
       " '/Users/brac4g/Desktop/reg4D/test1/split0266.nii.gz',\n",
       " '/Users/brac4g/Desktop/reg4D/test1/split0267.nii.gz',\n",
       " '/Users/brac4g/Desktop/reg4D/test1/split0268.nii.gz',\n",
       " '/Users/brac4g/Desktop/reg4D/test1/split0269.nii.gz',\n",
       " '/Users/brac4g/Desktop/reg4D/test1/split0270.nii.gz',\n",
       " '/Users/brac4g/Desktop/reg4D/test1/split0271.nii.gz',\n",
       " '/Users/brac4g/Desktop/reg4D/test1/split0272.nii.gz',\n",
       " '/Users/brac4g/Desktop/reg4D/test1/split0273.nii.gz',\n",
       " '/Users/brac4g/Desktop/reg4D/test1/split0274.nii.gz',\n",
       " '/Users/brac4g/Desktop/reg4D/test1/split0275.nii.gz',\n",
       " '/Users/brac4g/Desktop/reg4D/test1/split0276.nii.gz',\n",
       " '/Users/brac4g/Desktop/reg4D/test1/split0277.nii.gz',\n",
       " '/Users/brac4g/Desktop/reg4D/test1/split0278.nii.gz',\n",
       " '/Users/brac4g/Desktop/reg4D/test1/split0279.nii.gz',\n",
       " '/Users/brac4g/Desktop/reg4D/test1/split0280.nii.gz',\n",
       " '/Users/brac4g/Desktop/reg4D/test1/split0281.nii.gz',\n",
       " '/Users/brac4g/Desktop/reg4D/test1/split0282.nii.gz',\n",
       " '/Users/brac4g/Desktop/reg4D/test1/split0283.nii.gz',\n",
       " '/Users/brac4g/Desktop/reg4D/test1/split0284.nii.gz',\n",
       " '/Users/brac4g/Desktop/reg4D/test1/split0285.nii.gz',\n",
       " '/Users/brac4g/Desktop/reg4D/test1/split0286.nii.gz',\n",
       " '/Users/brac4g/Desktop/reg4D/test1/split0287.nii.gz',\n",
       " '/Users/brac4g/Desktop/reg4D/test1/split0288.nii.gz',\n",
       " '/Users/brac4g/Desktop/reg4D/test1/split0289.nii.gz',\n",
       " '/Users/brac4g/Desktop/reg4D/test1/split0290.nii.gz',\n",
       " '/Users/brac4g/Desktop/reg4D/test1/split0291.nii.gz',\n",
       " '/Users/brac4g/Desktop/reg4D/test1/split0292.nii.gz',\n",
       " '/Users/brac4g/Desktop/reg4D/test1/split0293.nii.gz',\n",
       " '/Users/brac4g/Desktop/reg4D/test1/split0294.nii.gz',\n",
       " '/Users/brac4g/Desktop/reg4D/test1/split0295.nii.gz',\n",
       " '/Users/brac4g/Desktop/reg4D/test1/split0296.nii.gz',\n",
       " '/Users/brac4g/Desktop/reg4D/test1/split0297.nii.gz',\n",
       " '/Users/brac4g/Desktop/reg4D/test1/split0298.nii.gz',\n",
       " '/Users/brac4g/Desktop/reg4D/test1/split0299.nii.gz',\n",
       " '2.0']"
      ]
     },
     "execution_count": 154,
     "metadata": {},
     "output_type": "execute_result"
    }
   ],
   "source": [
    "merge.extend(nii_list)\n",
    "\n",
    "if dim == \"-tr\":\n",
    "    merge.append(str(tr))\n",
    "    \n",
    "merge"
   ]
  },
  {
   "cell_type": "code",
   "execution_count": 155,
   "metadata": {},
   "outputs": [
    {
     "data": {
      "text/plain": [
       "0"
      ]
     },
     "execution_count": 155,
     "metadata": {},
     "output_type": "execute_result"
    }
   ],
   "source": [
    "subprocess.call(merge)"
   ]
  },
  {
   "cell_type": "code",
   "execution_count": null,
   "metadata": {},
   "outputs": [],
   "source": []
  }
 ],
 "metadata": {
  "kernelspec": {
   "display_name": "Python 3",
   "language": "python",
   "name": "python3"
  },
  "language_info": {
   "codemirror_mode": {
    "name": "ipython",
    "version": 3
   },
   "file_extension": ".py",
   "mimetype": "text/x-python",
   "name": "python",
   "nbconvert_exporter": "python",
   "pygments_lexer": "ipython3",
   "version": "3.7.3"
  }
 },
 "nbformat": 4,
 "nbformat_minor": 2
}
