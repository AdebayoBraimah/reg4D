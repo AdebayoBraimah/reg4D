{
 "cells": [
  {
   "cell_type": "code",
   "execution_count": 191,
   "metadata": {},
   "outputs": [],
   "source": [
    "import nibabel as nib\n",
    "import os\n",
    "import sys\n",
    "import subprocess\n",
    "import glob\n",
    "import random"
   ]
  },
  {
   "cell_type": "code",
   "execution_count": 2,
   "metadata": {},
   "outputs": [],
   "source": [
    "f = \"/Users/brac4g/Desktop/reg4D/test.file\""
   ]
  },
  {
   "cell_type": "code",
   "execution_count": 3,
   "metadata": {},
   "outputs": [],
   "source": [
    "# touch(f)"
   ]
  },
  {
   "cell_type": "code",
   "execution_count": 4,
   "metadata": {},
   "outputs": [],
   "source": [
    "# touch_empty(f)"
   ]
  },
  {
   "cell_type": "code",
   "execution_count": 23,
   "metadata": {},
   "outputs": [],
   "source": [
    "class File():\n",
    "    '''\n",
    "    File class doc-string\n",
    "    \n",
    "    Attributes:\n",
    "        filename (string): Filename with path to file. File does not need to exist.\n",
    "    '''\n",
    "    \n",
    "    def __init__(self,filename):\n",
    "        '''\n",
    "        Return filename string\n",
    "        '''\n",
    "        self.filename = filename\n",
    "        return None\n",
    "        \n",
    "    def touch(filename):\n",
    "        '''\n",
    "        Analagous to UNIX's touch command. Creates an empty file.\n",
    "\n",
    "        Arguments:\n",
    "            filename (string): Filename (with path)\n",
    "\n",
    "        Returns:\n",
    "            filename (string): Path to file. This now file exists and can now be used as inputs to other functions.\n",
    "        '''\n",
    "\n",
    "        if not os.path.exists(filename):\n",
    "            with open(filename,\"w\"): pass\n",
    "            filename = os.path.abspath(filename)\n",
    "        else:\n",
    "            print(f\"file: {filename} already exists. File will not be overwritten.\")\n",
    "\n",
    "        return filename\n",
    "    \n",
    "    def make_filename_path(filename):\n",
    "        '''\n",
    "        Analagous to UNIX's touch command. Creates an empty file, and then removes it - preserving the\n",
    "        absolute path to the file.\n",
    "\n",
    "        Arguments:\n",
    "            filename (string): Filename (with path)\n",
    "\n",
    "        Returns:\n",
    "            filename (string): Path to file. This now file exists and can now be used as inputs to other functions.\n",
    "        '''\n",
    "\n",
    "        if not os.path.exists(filename):\n",
    "            with open(filename,\"w\"): pass\n",
    "            filename = os.path.abspath(filename)\n",
    "            os.remove(filename)\n",
    "        else:\n",
    "            print(f\"file: {filename} already exists. File will not be overwritten.\")\n",
    "\n",
    "        return filename"
   ]
  },
  {
   "cell_type": "code",
   "execution_count": 15,
   "metadata": {},
   "outputs": [],
   "source": [
    "t = File(f)"
   ]
  },
  {
   "cell_type": "code",
   "execution_count": 16,
   "metadata": {},
   "outputs": [
    {
     "data": {
      "text/plain": [
       "<__main__.File at 0x7ff0d8cd9978>"
      ]
     },
     "execution_count": 16,
     "metadata": {},
     "output_type": "execute_result"
    }
   ],
   "source": [
    "t"
   ]
  },
  {
   "cell_type": "code",
   "execution_count": 18,
   "metadata": {},
   "outputs": [
    {
     "data": {
      "text/plain": [
       "<bound method File.touch of <__main__.File object at 0x7ff0d8cd9978>>"
      ]
     },
     "execution_count": 18,
     "metadata": {},
     "output_type": "execute_result"
    }
   ],
   "source": [
    "t.touch"
   ]
  },
  {
   "cell_type": "code",
   "execution_count": 12,
   "metadata": {},
   "outputs": [],
   "source": [
    "t = File.make_filename_path(f)"
   ]
  },
  {
   "cell_type": "code",
   "execution_count": 14,
   "metadata": {},
   "outputs": [
    {
     "data": {
      "text/plain": [
       "'/Users/brac4g/Desktop/reg4D/test.file'"
      ]
     },
     "execution_count": 14,
     "metadata": {},
     "output_type": "execute_result"
    }
   ],
   "source": [
    "t"
   ]
  },
  {
   "cell_type": "code",
   "execution_count": 55,
   "metadata": {},
   "outputs": [],
   "source": [
    "class Command():\n",
    "    '''\n",
    "    Creates a command and an empty command list for UNIX command line programs/applications\n",
    "    \n",
    "    Attributes:\n",
    "        command: Command to be performed on the command line\n",
    "    '''\n",
    "    \n",
    "    def __init__(self):\n",
    "        '''\n",
    "        Init doc-string for Command class.\n",
    "        '''\n",
    "        pass; return None\n",
    "    \n",
    "    def init_cmd(self,command):\n",
    "        '''\n",
    "        Init command function for initializing commands to be used on UNIX command line.\n",
    "        \n",
    "        Arguments:\n",
    "            command (string): Command to be used. Note: command used must be in system path\n",
    "        \n",
    "        Returns:\n",
    "            cmd_list (list): Mutable list that can be appended to.\n",
    "        '''\n",
    "        self.command = command\n",
    "        self.cmd_list = [f\"{self.command}\"]\n",
    "        return self.cmd_list"
   ]
  },
  {
   "cell_type": "code",
   "execution_count": null,
   "metadata": {},
   "outputs": [],
   "source": []
  },
  {
   "cell_type": "code",
   "execution_count": 166,
   "metadata": {},
   "outputs": [],
   "source": [
    "def split_4D(nii_4d,out_prefix,dim=\"-t\",verbose=False):\n",
    "    '''\n",
    "    Wrapper function for FSL's fslsplit. Splits 4D nifti timeseries data and returns a list of \n",
    "    the split timeseries files.\n",
    "    \n",
    "    Arugments:\n",
    "        nii_4d (nifti file): Input 4D file to be separated\n",
    "        out_prefix (string): Output file prefix (no '.nii.gz', preferably to separate directory)\n",
    "        dim (string): Dimension to separate along [default: '-t']\n",
    "        verbose (bool, optional): Enable verbose output [default: False]\n",
    "        \n",
    "    Returns:\n",
    "        nii_list (list): Sorted list of the zeropadded filenames of the split 4D timeseries.\n",
    "    '''\n",
    "    \n",
    "    # Check dimension argument\n",
    "    if dim != \"-t\" and dim != \"-x\" and dim != \"-y\" and dim != \"-z\":\n",
    "        print(\"Unrecognized option for dimension. Using default of time.\")\n",
    "        dim = \"-t\"\n",
    "        \n",
    "    \n",
    "    # Initialize command\n",
    "    split = Command().init_cmd(\"fslsplit\")\n",
    "    \n",
    "    # Add input/output arguments\n",
    "    split.append(nii_4d)\n",
    "    split.append(out_prefix)\n",
    "    split.append(dim)\n",
    "    \n",
    "    if verbose:\n",
    "        print(' '.join(split))\n",
    "    \n",
    "    # Perform/Execute command\n",
    "    subprocess.call(split)\n",
    "    \n",
    "    # Create list of files\n",
    "    nii_list = sorted(glob.glob(out_prefix + \"*.nii*\"))\n",
    "    \n",
    "    return nii_list"
   ]
  },
  {
   "cell_type": "code",
   "execution_count": 81,
   "metadata": {},
   "outputs": [],
   "source": [
    "n = split_4D(\"/Users/brac4g/Desktop/reg4D/test_data/filtered_func_data.nii.gz\",\n",
    "        \"/Users/brac4g/Desktop/reg4D/test1/split\",\n",
    "        dim=\"-t\")"
   ]
  },
  {
   "cell_type": "code",
   "execution_count": 156,
   "metadata": {},
   "outputs": [],
   "source": [
    "def merge_4D(nii_list,out_prefix,dim=\"-tr\",tr=2.000,verbose=False):\n",
    "    '''\n",
    "    Wrapper function for FSL's fslmerge. Merges a list of 3D nifti files and returns a merged file in some\n",
    "    arbitrary dimension (t (time, with TR), x, y, or, z).\n",
    "    \n",
    "    Arugments:\n",
    "        nii_list (list): List of the zeropadded filenames of the split 4D timeseries.\n",
    "        out_prefix (string): Output file prefix (no '.nii.gz')\n",
    "        dim (string): Dimension to separate along [default: '-tr']\n",
    "        tr (float): Repetition Time (TR, in sec.) [default: 2.000]\n",
    "        verbose (bool, optional): Enable verbose output [default: False]\n",
    "        \n",
    "    Returns:\n",
    "        out_file (string): Merged output nifti file.\n",
    "    '''\n",
    "    \n",
    "    # Check dimension argument\n",
    "    if dim != \"-tr\" and dim != \"-t\" and dim != \"-x\" and dim != \"-y\" and dim != \"-z\":\n",
    "        print(\"Unrecognized option for dimension. Using default of time with defined TR.\")\n",
    "        dim = \"-tr\"\n",
    "        \n",
    "    # Create empty file and path to retrieve\n",
    "    out_prefix = File.make_filename_path(out_prefix)\n",
    "    \n",
    "    # Initialize command\n",
    "    merge = Command().init_cmd(\"fslmerge\")\n",
    "    \n",
    "    # Add input/output arguments\n",
    "    merge.append(dim)\n",
    "    merge.append(out_prefix)   \n",
    "    merge.extend(nii_list)\n",
    "    \n",
    "    if dim == \"-tr\":\n",
    "        merge.append(str(tr))\n",
    "        \n",
    "    if verbose:\n",
    "        print(' '.join(merge))\n",
    "    \n",
    "    # Perform/Execute command\n",
    "    subprocess.call(merge)\n",
    "    \n",
    "    out_file = out_prefix + \".nii.gz\"\n",
    "    \n",
    "    return out_file"
   ]
  },
  {
   "cell_type": "code",
   "execution_count": null,
   "metadata": {},
   "outputs": [],
   "source": []
  },
  {
   "cell_type": "code",
   "execution_count": 157,
   "metadata": {
    "scrolled": true
   },
   "outputs": [
    {
     "data": {
      "text/plain": [
       "'/Users/brac4g/Desktop/reg4D/test_data/out_test_merge.nii.gz'"
      ]
     },
     "execution_count": 157,
     "metadata": {},
     "output_type": "execute_result"
    }
   ],
   "source": [
    "merge_4D(nii_list,out_prefix,tr=3.000)"
   ]
  },
  {
   "cell_type": "code",
   "execution_count": 164,
   "metadata": {},
   "outputs": [],
   "source": [
    "def apply_xfm_3D(nii_file,out_prefix,ref_vol,warp=\"\",warp_app=\"relative\",premat=\"\",postmat=\"\",\n",
    "                mask=\"\",interp=\"\",padding_size=\"\",use_qform=False,data_type=\"\",super_sampling=False,\n",
    "                super_level=2,verbose=False):\n",
    "    '''\n",
    "    Wrapper function for FSL's applywarp. Applies linear and non-linear transforms (xfms) in a one-step manner on\n",
    "    3D images. Generally, this reduces image blurring as a result of reduced image resampling accross the application of \n",
    "    multiple transforms.\n",
    "    \n",
    "    Note: \n",
    "    - If wanting to apply more than two linear transforms, then the first two transformation matrices should be concatenated (via FSL's convert_xfm)\n",
    "    - If wanting to apply more than one non-linear warp field, then the two warps should be combined (via FSL's convertwarp)\n",
    "    \n",
    "    Arugments:\n",
    "        nii_file (nifti file): Input nifti file\n",
    "        out_prefix (string): Output file (no '.nii.gz')\n",
    "        ref_vol (nifti file): Reference volume\n",
    "        warp (nifti file, optional): Warp file to reference\n",
    "        warp_app (nifti file, optional): Warp field treatment. Valid options are: \"relative\" (default), and \"absolute\"\n",
    "        premat (FSL mat file, optional): Pre-transform linear transformation matrix\n",
    "        postmat (FSL mat file, optional): Post-transform linear transformation matrix\n",
    "        mask (nifti file, optional): Mask, in reference space\n",
    "        interp (string, optional): Interpolation method, options include: \"nn\",\"trilinear\",\"sinc\",\"spline\"\n",
    "        padding_size (int, optional): Extrapolates outside original volume by n voxels\n",
    "        use_qform (bool, optional): Use s/qforms of ref_vol and nii_file images\n",
    "        data_type (string,optional): Force output data type [\"char\" \"short\" \"int\" \"float\" \"double\"].\n",
    "        super_sampling (bool, optional): Intermediary supersampling of output [default: False]\n",
    "        super_level (int, optional): Level of intermediary supersampling, a for 'automatic' or integer level. [default: 2]\n",
    "        verbose (bool, optional): Enable verbose output [default: False]\n",
    "        \n",
    "    Returns:\n",
    "        out_file (string): Output file with the applied transform(s).\n",
    "    '''\n",
    "    \n",
    "    # Create empty file and path to retrieve\n",
    "    out_prefix = File.make_filename_path(out_prefix)\n",
    "    \n",
    "    # Initialize command\n",
    "    xfm = Command().init_cmd(\"applywarp\")\n",
    "    \n",
    "    # Add required input/output arguments\n",
    "    xfm.append(f\"--in={nii_file}\")\n",
    "    xfm.append(f\"--out={out_prefix}\")\n",
    "    xfm.append(f\"--ref={ref_vol}\")\n",
    "    \n",
    "    # Add optional input arguments\n",
    "    if warp:\n",
    "        xfm.append(f\"--warp={warp}\")\n",
    "        \n",
    "    if warp_app == \"relative\":\n",
    "        xfm.append(\"--rel\")\n",
    "    elif warp_app == \"absolute\":\n",
    "        xfm.append(\"--abs\")\n",
    "        \n",
    "    if premat:\n",
    "        xfm.append(f\"--premat={premat}\")\n",
    "        \n",
    "    if postmat:\n",
    "        xfm.append(f\"--postmat={postmat}\")\n",
    "        \n",
    "    if data_type:\n",
    "        if data_type == \"char\" or data_type == \"short\" or data_type == \"int\" or data_type == \"float\" or data_type == \"double\":\n",
    "            xfm.append(f\"--datatype={data_type}\")\n",
    "        else:\n",
    "            print(f\"Unrecognized option: {data_type}. Using input data type.\")\n",
    "    \n",
    "    if mask:\n",
    "        xfm.append(f\"--mask={mask}\")\n",
    "        \n",
    "    if super_sampling:\n",
    "        xfm.append(\"--super\")\n",
    "        if super_level:\n",
    "            xfm.append(f\"--superlevel={super_level}\")\n",
    "    \n",
    "    if interp:\n",
    "        if interp == \"nn\" or interp == \"trilinear\" or interp == \"sinc\" or interp == \"spline\":\n",
    "            xfm.append(f\"--interp={interp}\")\n",
    "    \n",
    "    if padding_size:\n",
    "        xfm.append(f\"--paddingsize={padding_size}\")\n",
    "        \n",
    "    if use_qform:\n",
    "        xfm.append(\"--usesqform\")\n",
    "    \n",
    "    if verbose:\n",
    "        xfm.append(\"--verbose\")\n",
    "        print(' '.join(xfm))\n",
    "    \n",
    "    # Perform/Execute command\n",
    "    subprocess.call(xfm)\n",
    "    \n",
    "    out_file = out_prefix + \".nii.gz\"\n",
    "    \n",
    "    return out_file"
   ]
  },
  {
   "cell_type": "code",
   "execution_count": null,
   "metadata": {},
   "outputs": [],
   "source": []
  },
  {
   "cell_type": "code",
   "execution_count": 160,
   "metadata": {},
   "outputs": [],
   "source": [
    "in_f=\"/Users/brac4g/Desktop/reg4D/test_data/example_func.nii.gz\"\n",
    "out_f=\"/Users/brac4g/Desktop/reg4D/test_data/test_xfm\"\n",
    "ref=\"/Users/brac4g/Desktop/reg4D/test_data/highres.nii.gz\"\n",
    "premat=\"/Users/brac4g/Desktop/reg4D/test_data/example_func2highres.mat\""
   ]
  },
  {
   "cell_type": "code",
   "execution_count": 165,
   "metadata": {},
   "outputs": [
    {
     "name": "stdout",
     "output_type": "stream",
     "text": [
      "applywarp --in=/Users/brac4g/Desktop/reg4D/test_data/example_func.nii.gz --out=/Users/brac4g/Desktop/reg4D/test_data/test_xfm --ref=/Users/brac4g/Desktop/reg4D/test_data/highres.nii.gz --rel --premat=/Users/brac4g/Desktop/reg4D/test_data/example_func2highres.mat --verbose\n"
     ]
    },
    {
     "data": {
      "text/plain": [
       "'/Users/brac4g/Desktop/reg4D/test_data/test_xfm.nii.gz'"
      ]
     },
     "execution_count": 165,
     "metadata": {},
     "output_type": "execute_result"
    }
   ],
   "source": [
    "apply_xfm_3D(in_f,out_f,ref,premat=premat,verbose=True)"
   ]
  },
  {
   "cell_type": "code",
   "execution_count": 183,
   "metadata": {},
   "outputs": [],
   "source": [
    "def get_img_dims(nii_file):\n",
    "    '''\n",
    "    Reads and stores nifti image dimensions from input nifti file.\n",
    "    \n",
    "    Arugments:\n",
    "        nii_file (nifti file): Input nifti file\n",
    "        \n",
    "    Returns:\n",
    "        n_dim (int): N-dimensions of image (i.e. 2, for 2D, 3 for 3D, and 4 for 4D)\n",
    "        x_dim (int): X-dimension length\n",
    "        y_dim (int): Y-dimension length\n",
    "        z_dim (int): Z-dimension length\n",
    "        n_vol (int): Number of volumes in image (1 for 2D and 3D images, N>1 for 4D images) \n",
    "        x_vox (float): X-dimension voxel size\n",
    "        y_vox (float): Y-dimension voxel size\n",
    "        z_vox (float): Z-dimension voxel size\n",
    "        tr (float): Repetition time from nifti header\n",
    "    '''\n",
    "    \n",
    "    # Load image\n",
    "    img = nib.load(nii_file)\n",
    "    \n",
    "    # Image dimensions\n",
    "    n_dim = int(img.header['dim'][0])\n",
    "    x_dim = int(img.header['dim'][1])\n",
    "    y_dim = int(img.header['dim'][2])\n",
    "    z_dim = int(img.header['dim'][3])\n",
    "    n_vol = int(img.header['dim'][4])\n",
    "    \n",
    "    # Image voxel size\n",
    "    x_vox = float(img.header['pixdim'][1])\n",
    "    y_vox = float(img.header['pixdim'][2])\n",
    "    z_vox = float(img.header['pixdim'][3])\n",
    "    tr = float(img.header['pixdim'][4])\n",
    "    \n",
    "    return n_dim,x_dim,y_dim,z_dim,n_vol,x_vox,y_vox,z_vox,tr"
   ]
  },
  {
   "cell_type": "code",
   "execution_count": 167,
   "metadata": {},
   "outputs": [],
   "source": [
    "n = \"/Users/brac4g/Desktop/reg4D/test_data/filtered_func_data.nii.gz\""
   ]
  },
  {
   "cell_type": "code",
   "execution_count": 168,
   "metadata": {},
   "outputs": [],
   "source": [
    "img = nib.load(n)"
   ]
  },
  {
   "cell_type": "code",
   "execution_count": 171,
   "metadata": {},
   "outputs": [
    {
     "data": {
      "text/plain": [
       "array([  4,  80,  80,  40, 300,   1,   1,   1], dtype=int16)"
      ]
     },
     "execution_count": 171,
     "metadata": {},
     "output_type": "execute_result"
    }
   ],
   "source": [
    "img.header['dim']"
   ]
  },
  {
   "cell_type": "code",
   "execution_count": 172,
   "metadata": {},
   "outputs": [
    {
     "data": {
      "text/plain": [
       "array([1. , 2.8, 2.8, 3. , 2. , 0. , 0. , 0. ], dtype=float32)"
      ]
     },
     "execution_count": 172,
     "metadata": {},
     "output_type": "execute_result"
    }
   ],
   "source": [
    "img.header['pixdim']"
   ]
  },
  {
   "cell_type": "code",
   "execution_count": 178,
   "metadata": {},
   "outputs": [
    {
     "data": {
      "text/plain": [
       "4"
      ]
     },
     "execution_count": 178,
     "metadata": {},
     "output_type": "execute_result"
    }
   ],
   "source": [
    "n_dim = img.header['dim'][0]\n",
    "n_dim"
   ]
  },
  {
   "cell_type": "code",
   "execution_count": 180,
   "metadata": {},
   "outputs": [
    {
     "data": {
      "text/plain": [
       "2.8"
      ]
     },
     "execution_count": 180,
     "metadata": {},
     "output_type": "execute_result"
    }
   ],
   "source": [
    "x_vox = img.header['pixdim'][1]\n",
    "x_vox"
   ]
  },
  {
   "cell_type": "code",
   "execution_count": 182,
   "metadata": {},
   "outputs": [
    {
     "data": {
      "text/plain": [
       "(4, 80, 80, 40, 300, 2.799999952316284, 2.799999952316284, 3.0, 2.0)"
      ]
     },
     "execution_count": 182,
     "metadata": {},
     "output_type": "execute_result"
    }
   ],
   "source": [
    "get_img_dims(n)"
   ]
  },
  {
   "cell_type": "code",
   "execution_count": null,
   "metadata": {},
   "outputs": [],
   "source": []
  },
  {
   "cell_type": "code",
   "execution_count": 189,
   "metadata": {},
   "outputs": [],
   "source": [
    "def img_res(nii_file,out_prefix,ref,resamp_vox=True,resamp_dim=True,verbose=False):\n",
    "    '''\n",
    "    Wrapper function for MIRTK's image resample-image binary. Performs image resampling of an image in referance \n",
    "    to another image. This function is primarily intended for resampling a transformed image back to its \n",
    "    original native space - implying that the reference (ref) image should be the original native space image.\n",
    "    \n",
    "    Note: \n",
    "    - Not all of MIRTK's resample-image options are present. This is to ensure consistent behavior.\n",
    "    - Only intended for 2D or 3D images. If the image is 4D, this function will exit as this will likely consume too much memory.\n",
    "    \n",
    "    Arugments:\n",
    "        nii_file (nifti file): List of the zeropadded filenames of the split 4D timeseries.\n",
    "        out_prefix (string): Output file prefix (no '.nii.gz')\n",
    "        ref (nifti file): (Native space) Reference volume\n",
    "        resamp_vox (bool, optional): Resample voxel size to reference image [default: True]\n",
    "        resamp_dim (bool, optional): Resample image dimension to reference image [default: True]\n",
    "        verbose (bool, optional): Enable verbose output [default: False]\n",
    "        \n",
    "    Returns:\n",
    "        out_file (string): Merged output nifti file.\n",
    "    '''\n",
    "    \n",
    "    # Create empty file and path to retrieve\n",
    "    out_prefix = File.make_filename_path(out_prefix)\n",
    "    \n",
    "    # Initialize command\n",
    "    rsm = Command().init_cmd(\"mirtk\")\n",
    "    rsm.append(\"resample-image\") # append mirtk sub-command\n",
    "    \n",
    "    # Get image dimensions\n",
    "    [n_dim,x_dim,y_dim,z_dim,n_vol,x_vox,y_vox,z_vox,tr] = get_img_dims(nii_file=ref)\n",
    "    \n",
    "    if n_dim > 3:\n",
    "        print(f\"Image {nii_file} is greater than 3 dimensions. Exiting\")\n",
    "        sys.exit(1)\n",
    "    \n",
    "    # Add required input/output arguments\n",
    "    rsm.append(nii_file)\n",
    "    rsm.append(out_prefix)\n",
    "    \n",
    "    if resamp_vox:\n",
    "        rsm.append(\"-size\")\n",
    "        rsm.append(str(x_vox))\n",
    "        rsm.append(str(y_vox))\n",
    "        rsm.append(str(z_vox))\n",
    "        \n",
    "    if resamp_dim:\n",
    "        rsm.append(\"-imsize\")\n",
    "        rsm.append(str(x_dim))\n",
    "        rsm.append(str(y_dim))\n",
    "        rsm.append(str(z_dim))\n",
    "        \n",
    "    if verbose:\n",
    "        rsm.append(\"-verbose\")\n",
    "        print(' '.join(rsm))\n",
    "        \n",
    "    # Perform/Execute command\n",
    "    subprocess.call(rsm)\n",
    "    \n",
    "    out_file = out_prefix + \".nii.gz\"\n",
    "    \n",
    "    return out_file"
   ]
  },
  {
   "cell_type": "code",
   "execution_count": null,
   "metadata": {},
   "outputs": [],
   "source": []
  },
  {
   "cell_type": "code",
   "execution_count": 187,
   "metadata": {},
   "outputs": [],
   "source": [
    "in_f = \"/Users/brac4g/Desktop/reg4D/test_data/test_xfm.nii.gz\"\n",
    "out_f = \"/Users/brac4g/Desktop/reg4D/test_data/func_native_aligned\"\n",
    "ref=\"/Users/brac4g/Desktop/reg4D/test_data/example_func.nii.gz\""
   ]
  },
  {
   "cell_type": "code",
   "execution_count": 190,
   "metadata": {
    "scrolled": true
   },
   "outputs": [
    {
     "name": "stdout",
     "output_type": "stream",
     "text": [
      "mirtk resample-image /Users/brac4g/Desktop/reg4D/test_data/test_xfm.nii.gz /Users/brac4g/Desktop/reg4D/test_data/func_native_aligned -size 2.799999952316284 2.799999952316284 3.0 -imsize 80 80 40 -verbose\n"
     ]
    },
    {
     "data": {
      "text/plain": [
       "'/Users/brac4g/Desktop/reg4D/test_data/func_native_aligned.nii.gz'"
      ]
     },
     "execution_count": 190,
     "metadata": {},
     "output_type": "execute_result"
    }
   ],
   "source": [
    "img_res(in_f,out_f,ref,verbose=True)"
   ]
  },
  {
   "cell_type": "code",
   "execution_count": null,
   "metadata": {},
   "outputs": [],
   "source": [
    "def apply_xfm_4D(nii_file,out_prefix,ref_vol,warp=\"\",warp_app=\"relative\",premat=\"\",postmat=\"\",\n",
    "                mask=\"\",interp=\"\",padding_size=\"\",use_qform=False,data_type=\"\",super_sampling=False,\n",
    "                super_level=2,verbose=False):\n",
    "    '''working doc-string'''\n",
    "    \n",
    "    # random number for random number generator\n",
    "    n = 10000 # maximum N\n",
    "    \n",
    "    out_tmp_1 = os.path.join(os.path.basename(out_prefix), 'tmp_dir' + + str(random.randint(0, n)))\n",
    "    out_name_1 = os.path.join(out_tmp_1,'func_split')\n",
    "    \n",
    "    if not os.path.exists(out_tmp_1):\n",
    "        os.makedirs(out_tmp_1)\n",
    "        \n",
    "    "
   ]
  },
  {
   "cell_type": "code",
   "execution_count": null,
   "metadata": {},
   "outputs": [],
   "source": [
    "def apply_xfm_4D(nii_file,out_prefix,ref_vol,warp=\"\",warp_app=\"relative\",premat=\"\",postmat=\"\",\n",
    "                mask=\"\",interp=\"\",padding_size=\"\",use_qform=False,data_type=\"\",super_sampling=False,\n",
    "                super_level=2,verbose=False):\n",
    "    '''working doc-string'''\n",
    "    \n",
    "    # random number for random number generator\n",
    "    n = 10000 # maximum N\n",
    "    \n",
    "    # Make temporay directories\n",
    "    out_tmp_1 = os.path.join(os.path.basename(out_prefix), 'tmp_dir' + + str(random.randint(0, n)))\n",
    "    out_name_1 = os.path.join(out_tmp_1,'func_split')\n",
    "\n",
    "    out_tmp_2 = os.path.join(os.path.basename(out_prefix), 'tmp_dir' + + str(random.randint(0, n)))\n",
    "    out_name_2 = os.path.join(out_tmp_2,'func_xfm')\n",
    "\n",
    "    out_tmp_3 = os.path.join(os.path.basename(out_prefix), 'tmp_dir' + + str(random.randint(0, n)))\n",
    "    out_name_3 = os.path.join(out_tmp_3,'func_rsm')\n",
    "    \n",
    "    if not os.path.exists(out_tmp_1):\n",
    "        os.makedirs(out_tmp_1)\n",
    "\n",
    "    if not os.path.exists(out_tmp_2):\n",
    "        os.makedirs(out_tmp_2)\n",
    "\n",
    "    if not os.path.exists(out_tmp_3):\n",
    "        os.makedirs(out_tmp_3)\n",
    "        \n",
    "    tmp_list_1 = split_4D(nii_4d=nii_file,out_prefix=out_name_1,dim=\"-t\",verbose=verbose)\n",
    "\n",
    "    ###### parallel starts here ######\n",
    "\n",
    "    # Do stuff here\n",
    "\n",
    "    ###### parallel ends here ######\n",
    "\n",
    "    xfm_list = sorted(glob.glob(out_name_3 + \"*.nii*\"))\n",
    "\n",
    "    out_file = merge_4D(nii_list=xfm_list,out_prefix=out_prefix,dim=\"-tr\",tr=2.000,verbose=False)\n",
    "\n"
   ]
  }
 ],
 "metadata": {
  "kernelspec": {
   "display_name": "Python 3",
   "language": "python",
   "name": "python3"
  },
  "language_info": {
   "codemirror_mode": {
    "name": "ipython",
    "version": 3
   },
   "file_extension": ".py",
   "mimetype": "text/x-python",
   "name": "python",
   "nbconvert_exporter": "python",
   "pygments_lexer": "ipython3",
   "version": "3.7.3"
  }
 },
 "nbformat": 4,
 "nbformat_minor": 2
}
