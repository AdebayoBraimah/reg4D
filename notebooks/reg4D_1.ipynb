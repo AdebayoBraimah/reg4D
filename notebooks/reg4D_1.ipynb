{
 "cells": [
  {
   "cell_type": "code",
   "execution_count": 73,
   "metadata": {},
   "outputs": [],
   "source": [
    "import nibabel as nib\n",
    "import os\n",
    "import sys\n",
    "import subprocess\n",
    "import glob"
   ]
  },
  {
   "cell_type": "code",
   "execution_count": 2,
   "metadata": {},
   "outputs": [],
   "source": [
    "f = \"/Users/brac4g/Desktop/reg4D/test.file\""
   ]
  },
  {
   "cell_type": "code",
   "execution_count": 3,
   "metadata": {},
   "outputs": [],
   "source": [
    "# touch(f)"
   ]
  },
  {
   "cell_type": "code",
   "execution_count": 4,
   "metadata": {},
   "outputs": [],
   "source": [
    "# touch_empty(f)"
   ]
  },
  {
   "cell_type": "code",
   "execution_count": 23,
   "metadata": {},
   "outputs": [],
   "source": [
    "class File():\n",
    "    '''\n",
    "    File class doc-string\n",
    "    \n",
    "    Attributes:\n",
    "        filename (string): Filename with path to file. File does not need to exist.\n",
    "    '''\n",
    "    \n",
    "    def __init__(self,filename):\n",
    "        '''\n",
    "        Return filename string\n",
    "        '''\n",
    "        self.filename = filename\n",
    "        return None\n",
    "        \n",
    "    def touch(filename):\n",
    "        '''\n",
    "        Analagous to UNIX's touch command. Creates an empty file.\n",
    "\n",
    "        Arguments:\n",
    "            filename (string): Filename (with path)\n",
    "\n",
    "        Returns:\n",
    "            filename (string): Path to file. This now file exists and can now be used as inputs to other functions.\n",
    "        '''\n",
    "\n",
    "        if not os.path.exists(filename):\n",
    "            with open(filename,\"w\"): pass\n",
    "            filename = os.path.abspath(filename)\n",
    "        else:\n",
    "            print(f\"file: {filename} already exists. File will not be overwritten.\")\n",
    "\n",
    "        return filename\n",
    "    \n",
    "    def make_filename_path(filename):\n",
    "        '''\n",
    "        Analagous to UNIX's touch command. Creates an empty file, and then removes it - preserving the\n",
    "        absolute path to the file.\n",
    "\n",
    "        Arguments:\n",
    "            filename (string): Filename (with path)\n",
    "\n",
    "        Returns:\n",
    "            filename (string): Path to file. This now file exists and can now be used as inputs to other functions.\n",
    "        '''\n",
    "\n",
    "        if not os.path.exists(filename):\n",
    "            with open(filename,\"w\"): pass\n",
    "            filename = os.path.abspath(filename)\n",
    "            os.remove(filename)\n",
    "        else:\n",
    "            print(f\"file: {filename} already exists. File will not be overwritten.\")\n",
    "\n",
    "        return filename"
   ]
  },
  {
   "cell_type": "code",
   "execution_count": 15,
   "metadata": {},
   "outputs": [],
   "source": [
    "t = File(f)"
   ]
  },
  {
   "cell_type": "code",
   "execution_count": 16,
   "metadata": {},
   "outputs": [
    {
     "data": {
      "text/plain": [
       "<__main__.File at 0x7ff0d8cd9978>"
      ]
     },
     "execution_count": 16,
     "metadata": {},
     "output_type": "execute_result"
    }
   ],
   "source": [
    "t"
   ]
  },
  {
   "cell_type": "code",
   "execution_count": 18,
   "metadata": {},
   "outputs": [
    {
     "data": {
      "text/plain": [
       "<bound method File.touch of <__main__.File object at 0x7ff0d8cd9978>>"
      ]
     },
     "execution_count": 18,
     "metadata": {},
     "output_type": "execute_result"
    }
   ],
   "source": [
    "t.touch"
   ]
  },
  {
   "cell_type": "code",
   "execution_count": 12,
   "metadata": {},
   "outputs": [],
   "source": [
    "t = File.make_filename_path(f)"
   ]
  },
  {
   "cell_type": "code",
   "execution_count": 14,
   "metadata": {},
   "outputs": [
    {
     "data": {
      "text/plain": [
       "'/Users/brac4g/Desktop/reg4D/test.file'"
      ]
     },
     "execution_count": 14,
     "metadata": {},
     "output_type": "execute_result"
    }
   ],
   "source": [
    "t"
   ]
  },
  {
   "cell_type": "code",
   "execution_count": 55,
   "metadata": {},
   "outputs": [],
   "source": [
    "class Command():\n",
    "    '''\n",
    "    Creates a command and an empty command list for UNIX command line programs/applications\n",
    "    \n",
    "    Attributes:\n",
    "        command: Command to be performed on the command line\n",
    "    '''\n",
    "    \n",
    "    def __init__(self):\n",
    "        '''\n",
    "        Init doc-string for Command class.\n",
    "        '''\n",
    "        pass; return None\n",
    "    \n",
    "    def init_cmd(self,command):\n",
    "        '''\n",
    "        Init command function for initializing commands to be used on UNIX command line.\n",
    "        \n",
    "        Arguments:\n",
    "            command (string): Command to be used. Note: command used must be in system path\n",
    "        \n",
    "        Returns:\n",
    "            cmd_list (list): Mutable list that can be appended to.\n",
    "        '''\n",
    "        self.command = command\n",
    "        self.cmd_list = [f\"{self.command}\"]\n",
    "        return self.cmd_list"
   ]
  },
  {
   "cell_type": "code",
   "execution_count": null,
   "metadata": {},
   "outputs": [],
   "source": []
  },
  {
   "cell_type": "code",
   "execution_count": 158,
   "metadata": {},
   "outputs": [],
   "source": [
    "def split_4D(nii_4d,out_prefix,dim=\"-t\"):\n",
    "    '''\n",
    "    Wrapper function for FSL's fslsplit. Splits 4D nifti timeseries data and returns a list of \n",
    "    the split timeseries files.\n",
    "    \n",
    "    Arugments:\n",
    "        nii_4d (string): Input 4D file to be separated\n",
    "        out_prefix (string): Output file prefix (no '.nii.gz', preferably to separate directory)\n",
    "        dim (string): Dimension to separate along [default: '-t']\n",
    "        \n",
    "    Returns:\n",
    "        nii_list (list): Sorted list of the zeropadded filenames of the split 4D timeseries.\n",
    "    '''\n",
    "    \n",
    "    # Check dimension argument\n",
    "    if dim != \"-t\" and dim != \"-x\" and dim != \"-y\" and dim != \"-z\":\n",
    "        print(\"Unrecognized option for dimension. Using default of time.\")\n",
    "        dim = \"-t\"\n",
    "        \n",
    "    \n",
    "    # Initialize command\n",
    "    split = Command().init_cmd(\"fslsplit\")\n",
    "    \n",
    "    # Add input/output arguments\n",
    "    split.append(nii_4d)\n",
    "    split.append(out_prefix)\n",
    "    split.append(dim)\n",
    "    \n",
    "    # Perform/Execute command\n",
    "    subprocess.call(split)\n",
    "    \n",
    "    # Create list of files\n",
    "    nii_list = sorted(glob.glob(out_prefix + \"*.nii*\"))\n",
    "    \n",
    "    return nii_list"
   ]
  },
  {
   "cell_type": "code",
   "execution_count": 81,
   "metadata": {},
   "outputs": [],
   "source": [
    "n = split_4D(\"/Users/brac4g/Desktop/reg4D/test_data/filtered_func_data.nii.gz\",\n",
    "        \"/Users/brac4g/Desktop/reg4D/test1/split\",\n",
    "        dim=\"-t\")"
   ]
  },
  {
   "cell_type": "code",
   "execution_count": 156,
   "metadata": {},
   "outputs": [],
   "source": [
    "def merge_4D(nii_list,out_prefix,dim=\"-tr\",tr=2.000):\n",
    "    '''\n",
    "    Wrapper function for FSL's fslmerge. Merges a list of 3D nifti files and returns a merged file in some\n",
    "    arbitrary dimension (t (time, with TR), x, y, or, z).\n",
    "    \n",
    "    Arugments:\n",
    "        nii_list (list): List of the zeropadded filenames of the split 4D timeseries.\n",
    "        out_prefix (string): Output file prefix (no '.nii.gz')\n",
    "        dim (string): Dimension to separate along [default: '-tr']\n",
    "        tr (float): Repetition Time (TR, in sec.) [default: 2.000]\n",
    "        \n",
    "    Returns:\n",
    "        out_file (string): Merged output nifti file.\n",
    "    '''\n",
    "    \n",
    "    # Check dimension argument\n",
    "    if dim != \"-tr\" and dim != \"-t\" and dim != \"-x\" and dim != \"-y\" and dim != \"-z\":\n",
    "        print(\"Unrecognized option for dimension. Using default of time with defined TR.\")\n",
    "        dim = \"-tr\"\n",
    "        \n",
    "    # Create empty file and path to retrieve\n",
    "    out_prefix = File.make_filename_path(out_prefix)\n",
    "    \n",
    "    # Initialize command\n",
    "    merge = Command().init_cmd(\"fslmerge\")\n",
    "    \n",
    "    # Add input/output arguments\n",
    "    merge.append(dim)\n",
    "    merge.append(out_prefix)   \n",
    "    merge.extend(nii_list)\n",
    "    \n",
    "    if dim == \"-tr\":\n",
    "        merge.append(str(tr))\n",
    "    \n",
    "    # Perform/Execute command\n",
    "    subprocess.call(merge)\n",
    "    \n",
    "    out_file = out_prefix + \".nii.gz\"\n",
    "    \n",
    "    return out_file"
   ]
  },
  {
   "cell_type": "code",
   "execution_count": null,
   "metadata": {},
   "outputs": [],
   "source": []
  },
  {
   "cell_type": "code",
   "execution_count": 157,
   "metadata": {
    "scrolled": true
   },
   "outputs": [
    {
     "data": {
      "text/plain": [
       "'/Users/brac4g/Desktop/reg4D/test_data/out_test_merge.nii.gz'"
      ]
     },
     "execution_count": 157,
     "metadata": {},
     "output_type": "execute_result"
    }
   ],
   "source": [
    "merge_4D(nii_list,out_prefix,tr=3.000)"
   ]
  },
  {
   "cell_type": "code",
   "execution_count": null,
   "metadata": {},
   "outputs": [],
   "source": [
    "def apply_xfm_4D(nii_file,out_prefix,ref_vol,warp=\"\",warp_app=\"relative\",premat=\"\",postmat=\"\",\n",
    "                mask=\"\",interp=\"\",padding_size=\"\",use_qform=False,data_type=\"\",super_sampling=False,\n",
    "                super_level=\"\",verbose=False):\n",
    "    '''\n",
    "    Wrapper function for FSL's applywarp. Applies linear and non-linear transforms (xfms) in a step manner.\n",
    "    \n",
    "    Arugments:\n",
    "        nii_file (string): Input nifti file\n",
    "        out_prefix (string): Output file (no '.nii.gz')\n",
    "        ref_vol (string): Reference volume\n",
    "        warp (string, optional): Warp file to reference\n",
    "        warp_app (string, optional): Warp field treatment. Valid options are: \"relative\" (default), and \"absolute\"\n",
    "        premat (string, optional): Pre-transform linear transformation matrix\n",
    "        postmat (string, optional): Post-transform linear transformation matrix\n",
    "        mask (string, optional): Mask, in reference space\n",
    "        interp (string, optional): Interpolation method, options include: \"nn\",\"trilinear\",\"sinc\",\"spline\"\n",
    "        padding_size (int, optional): Extrapolates outside original volume by n voxels\n",
    "        use_qform (bool, optional): Use s/qforms of ref_vol and nii_file images\n",
    "        data_type (string,optional): Force output data type [\"char\" \"short\" \"int\" \"float\" \"double\"].\n",
    "        super_sampling (bool, optional): Intermediary supersampling of output [default: False]\n",
    "        super_level (int, optional): Level of intermediary supersampling, a for 'automatic' or integer level. [default: 2]\n",
    "        verbose (bool, optional): Enable verbose output [default: False]\n",
    "        \n",
    "    Returns:\n",
    "        out_file (string): Output file with the applied transform(s).\n",
    "    '''\n",
    "    \n",
    "    # Create empty file and path to retrieve\n",
    "    out_prefix = File.make_filename_path(out_prefix)\n",
    "    \n",
    "    # Initialize command\n",
    "    xfm = Command().init_cmd(\"applywarp\")\n",
    "    \n",
    "    # Add required input/output arguments\n",
    "    xfm.append(\"--in=\"); xfm.append(nii_file)\n",
    "    xfm.append(\"--out=\"); xfm.append(out_prefix)\n",
    "    xfm.append(\"--ref=\"); xfm.append(ref_vol)\n",
    "    \n",
    "    # Add optional input arguments\n",
    "    if warp:\n",
    "        xfm.append(\"--warp=\"); xfm.append(warp)\n",
    "        \n",
    "    if warp_app == \"\"\n",
    "    "
   ]
  }
 ],
 "metadata": {
  "kernelspec": {
   "display_name": "Python 3",
   "language": "python",
   "name": "python3"
  },
  "language_info": {
   "codemirror_mode": {
    "name": "ipython",
    "version": 3
   },
   "file_extension": ".py",
   "mimetype": "text/x-python",
   "name": "python",
   "nbconvert_exporter": "python",
   "pygments_lexer": "ipython3",
   "version": "3.7.3"
  }
 },
 "nbformat": 4,
 "nbformat_minor": 2
}
